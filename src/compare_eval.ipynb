{
 "cells": [
  {
   "cell_type": "code",
   "execution_count": 1,
   "metadata": {},
   "outputs": [
    {
     "name": "stdout",
     "output_type": "stream",
     "text": [
      "Failures in gold_plan:\n",
      "HumanEval: 18, HumanEval+: 31\n",
      "\n",
      "Failures in llama_gold:\n",
      "HumanEval: 20, HumanEval+: 35\n",
      "\n",
      "Tasks where gold_plan passes but llama_gold fails (HumanEval):\n",
      "{'HumanEval/10', 'HumanEval/137', 'HumanEval/130', 'HumanEval/126', 'HumanEval/129', 'HumanEval/116', 'HumanEval/77', 'HumanEval/87', 'HumanEval/128', 'HumanEval/119'}\n",
      "\n",
      "Tasks where llama_gold passes but gold_plan fails (HumanEval):\n",
      "{'HumanEval/80', 'HumanEval/37', 'HumanEval/100', 'HumanEval/113', 'HumanEval/109', 'HumanEval/38', 'HumanEval/75', 'HumanEval/62'}\n",
      "\n",
      "Tasks where gold_plan passes but llama_gold fails (HumanEval+):\n",
      "{'HumanEval/10', 'HumanEval/137', 'HumanEval/130', 'HumanEval/126', 'HumanEval/129', 'HumanEval/25', 'HumanEval/77', 'HumanEval/97', 'HumanEval/87', 'HumanEval/128', 'HumanEval/119', 'HumanEval/86', 'HumanEval/154'}\n",
      "\n",
      "Tasks where llama_gold passes but gold_plan fails (HumanEval+):\n",
      "{'HumanEval/80', 'HumanEval/37', 'HumanEval/72', 'HumanEval/100', 'HumanEval/113', 'HumanEval/109', 'HumanEval/38', 'HumanEval/75', 'HumanEval/62'}\n"
     ]
    }
   ],
   "source": [
    "import json\n",
    "import os\n",
    "\n",
    "def load_results(workdir: str):\n",
    "    with open(os.path.join(workdir, \"eval_results.json\"), \"r\") as f:\n",
    "        return json.loads(f.read())\n",
    "\n",
    "def check_failures(results):\n",
    "    failed_humaneval = []\n",
    "    failed_humaneval_plus = []\n",
    "\n",
    "    for task_id in results['eval']:\n",
    "        if results['eval'][task_id][0]['base_status'] != \"pass\":\n",
    "            failed_humaneval.append(task_id)\n",
    "        if results['eval'][task_id][0]['plus_status'] != \"pass\":\n",
    "            failed_humaneval_plus.append(task_id)\n",
    "\n",
    "    return failed_humaneval, failed_humaneval_plus\n",
    "\n",
    "def compare_results(dir1: str, dir2: str):\n",
    "    results1 = load_results(dir1)\n",
    "    results2 = load_results(dir2)\n",
    "\n",
    "    failed1_base, failed1_plus = check_failures(results1)\n",
    "    failed2_base, failed2_plus = check_failures(results2)\n",
    "\n",
    "    name1 = dir1.split(\"/\")[-1]\n",
    "    name2 = dir2.split(\"/\")[-1]\n",
    "\n",
    "    print(f\"Failures in {name1}:\")\n",
    "    print(f\"HumanEval: {len(failed1_base)}, HumanEval+: {len(failed1_plus)}\")\n",
    "    print(f\"\\nFailures in {name2}:\")\n",
    "    print(f\"HumanEval: {len(failed2_base)}, HumanEval+: {len(failed2_plus)}\")\n",
    "\n",
    "    print(f\"\\nTasks where {name1} passes but {name2} fails (HumanEval):\")\n",
    "    print(set(failed2_base) - set(failed1_base))\n",
    "\n",
    "    print(f\"\\nTasks where {name2} passes but {name1} fails (HumanEval):\")\n",
    "    print(set(failed1_base) - set(failed2_base))\n",
    "\n",
    "    print(f\"\\nTasks where {name1} passes but {name2} fails (HumanEval+):\")\n",
    "    print(set(failed2_plus) - set(failed1_plus))\n",
    "\n",
    "    print(f\"\\nTasks where {name2} passes but {name1} fails (HumanEval+):\")\n",
    "    print(set(failed1_plus) - set(failed2_plus))\n",
    "\n",
    "\n",
    "# Example usage\n",
    "DIR1 = \"Phi-3-mini-4k-instruct-output/gold_plan\"\n",
    "DIR2 = \"Phi-3-mini-4k-instruct-output/llama_gold\"\n",
    "\n",
    "compare_results(DIR1, DIR2)"
   ]
  },
  {
   "cell_type": "code",
   "execution_count": null,
   "metadata": {},
   "outputs": [],
   "source": []
  }
 ],
 "metadata": {
  "kernelspec": {
   "display_name": "inference",
   "language": "python",
   "name": "python3"
  },
  "language_info": {
   "codemirror_mode": {
    "name": "ipython",
    "version": 3
   },
   "file_extension": ".py",
   "mimetype": "text/x-python",
   "name": "python",
   "nbconvert_exporter": "python",
   "pygments_lexer": "ipython3",
   "version": "3.9.19"
  }
 },
 "nbformat": 4,
 "nbformat_minor": 2
}
