{
 "cells": [
  {
   "cell_type": "code",
   "execution_count": 1,
   "metadata": {},
   "outputs": [
    {
     "name": "stdout",
     "output_type": "stream",
     "text": [
      "Failures in self:\n",
      "HumanEval: 66, HumanEval+: 72\n",
      "\n",
      "Failures in planner_non_gran:\n",
      "HumanEval: 62, HumanEval+: 74\n",
      "\n",
      "Tasks where self passes but planner_non_gran fails (HumanEval):\n",
      "{'HumanEval/101', 'HumanEval/38', 'HumanEval/100', 'HumanEval/160', 'HumanEval/40', 'HumanEval/20', 'HumanEval/1', 'HumanEval/139', 'HumanEval/57', 'HumanEval/67', 'HumanEval/6', 'HumanEval/85', 'HumanEval/103', 'HumanEval/146', 'HumanEval/76', 'HumanEval/89', 'HumanEval/11', 'HumanEval/9', 'HumanEval/161', 'HumanEval/25', 'HumanEval/75'}\n",
      "\n",
      "Tasks where planner_non_gran passes but self fails (HumanEval):\n",
      "{'HumanEval/73', 'HumanEval/55', 'HumanEval/84', 'HumanEval/54', 'HumanEval/87', 'HumanEval/64', 'HumanEval/154', 'HumanEval/39', 'HumanEval/97', 'HumanEval/111', 'HumanEval/128', 'HumanEval/94', 'HumanEval/24', 'HumanEval/37', 'HumanEval/149', 'HumanEval/10', 'HumanEval/5', 'HumanEval/49', 'HumanEval/63', 'HumanEval/17', 'HumanEval/86', 'HumanEval/156', 'HumanEval/30', 'HumanEval/79', 'HumanEval/96'}\n",
      "\n",
      "Tasks where self passes but planner_non_gran fails (HumanEval+):\n",
      "{'HumanEval/101', 'HumanEval/38', 'HumanEval/100', 'HumanEval/160', 'HumanEval/40', 'HumanEval/20', 'HumanEval/1', 'HumanEval/44', 'HumanEval/139', 'HumanEval/57', 'HumanEval/67', 'HumanEval/6', 'HumanEval/85', 'HumanEval/103', 'HumanEval/146', 'HumanEval/0', 'HumanEval/89', 'HumanEval/7', 'HumanEval/122', 'HumanEval/11', 'HumanEval/9', 'HumanEval/161', 'HumanEval/25', 'HumanEval/75'}\n",
      "\n",
      "Tasks where planner_non_gran passes but self fails (HumanEval+):\n",
      "{'HumanEval/73', 'HumanEval/84', 'HumanEval/87', 'HumanEval/64', 'HumanEval/111', 'HumanEval/128', 'HumanEval/94', 'HumanEval/24', 'HumanEval/37', 'HumanEval/149', 'HumanEval/34', 'HumanEval/83', 'HumanEval/10', 'HumanEval/88', 'HumanEval/5', 'HumanEval/49', 'HumanEval/63', 'HumanEval/17', 'HumanEval/156', 'HumanEval/30', 'HumanEval/79', 'HumanEval/96'}\n"
     ]
    }
   ],
   "source": [
    "import json\n",
    "import os\n",
    "\n",
    "def load_results(workdir: str):\n",
    "    with open(os.path.join(workdir, \"eval_results.json\"), \"r\") as f:\n",
    "        return json.loads(f.read())\n",
    "\n",
    "def check_failures(results):\n",
    "    failed_humaneval = []\n",
    "    failed_humaneval_plus = []\n",
    "\n",
    "    for task_id in results['eval']:\n",
    "        if results['eval'][task_id][0]['base_status'] != \"pass\":\n",
    "            failed_humaneval.append(task_id)\n",
    "        if results['eval'][task_id][0]['plus_status'] != \"pass\":\n",
    "            failed_humaneval_plus.append(task_id)\n",
    "\n",
    "    return failed_humaneval, failed_humaneval_plus\n",
    "\n",
    "def compare_results(dir1: str, dir2: str):\n",
    "    results1 = load_results(dir1)\n",
    "    results2 = load_results(dir2)\n",
    "\n",
    "    failed1_base, failed1_plus = check_failures(results1)\n",
    "    failed2_base, failed2_plus = check_failures(results2)\n",
    "\n",
    "    name1 = dir1.split(\"/\")[-1]\n",
    "    name2 = dir2.split(\"/\")[-1]\n",
    "\n",
    "    print(f\"Failures in {name1}:\")\n",
    "    print(f\"HumanEval: {len(failed1_base)}, HumanEval+: {len(failed1_plus)}\")\n",
    "    print(f\"\\nFailures in {name2}:\")\n",
    "    print(f\"HumanEval: {len(failed2_base)}, HumanEval+: {len(failed2_plus)}\")\n",
    "\n",
    "    print(f\"\\nTasks where {name1} passes but {name2} fails (HumanEval):\")\n",
    "    print(set(failed2_base) - set(failed1_base))\n",
    "\n",
    "    print(f\"\\nTasks where {name2} passes but {name1} fails (HumanEval):\")\n",
    "    print(set(failed1_base) - set(failed2_base))\n",
    "\n",
    "    print(f\"\\nTasks where {name1} passes but {name2} fails (HumanEval+):\")\n",
    "    print(set(failed2_plus) - set(failed1_plus))\n",
    "\n",
    "    print(f\"\\nTasks where {name2} passes but {name1} fails (HumanEval+):\")\n",
    "    print(set(failed1_plus) - set(failed2_plus))\n",
    "\n",
    "\n",
    "# Example usage\n",
    "DIR1 = \"Phi-3-mini-4k-instruct-output/self\"\n",
    "DIR2 = \"Phi-3-mini-4k-instruct-output/planner_non_gran\"\n",
    "\n",
    "compare_results(DIR1, DIR2)"
   ]
  },
  {
   "cell_type": "code",
   "execution_count": null,
   "metadata": {},
   "outputs": [],
   "source": []
  }
 ],
 "metadata": {
  "kernelspec": {
   "display_name": "inference",
   "language": "python",
   "name": "python3"
  },
  "language_info": {
   "codemirror_mode": {
    "name": "ipython",
    "version": 3
   },
   "file_extension": ".py",
   "mimetype": "text/x-python",
   "name": "python",
   "nbconvert_exporter": "python",
   "pygments_lexer": "ipython3",
   "version": "3.9.19"
  }
 },
 "nbformat": 4,
 "nbformat_minor": 2
}
