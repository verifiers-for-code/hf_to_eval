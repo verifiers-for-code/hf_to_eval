{
 "cells": [
  {
   "cell_type": "code",
   "execution_count": 2,
   "metadata": {},
   "outputs": [
    {
     "name": "stdout",
     "output_type": "stream",
     "text": [
      "Failures in none:\n",
      "HumanEval: 59, HumanEval+: 63\n",
      "\n",
      "Failures in planner:\n",
      "HumanEval: 67, HumanEval+: 76\n",
      "\n",
      "Tasks where none passes but planner fails (HumanEval):\n",
      "{'HumanEval/18', 'HumanEval/128', 'HumanEval/119', 'HumanEval/78', 'HumanEval/144', 'HumanEval/123', 'HumanEval/67', 'HumanEval/57', 'HumanEval/101', 'HumanEval/113', 'HumanEval/19', 'HumanEval/124', 'HumanEval/40', 'HumanEval/148', 'HumanEval/85', 'HumanEval/20', 'HumanEval/103', 'HumanEval/90', 'HumanEval/114', 'HumanEval/11'}\n",
      "\n",
      "Tasks where planner passes but none fails (HumanEval):\n",
      "{'HumanEval/141', 'HumanEval/55', 'HumanEval/94', 'HumanEval/142', 'HumanEval/93', 'HumanEval/127', 'HumanEval/98', 'HumanEval/37', 'HumanEval/96', 'HumanEval/156', 'HumanEval/25', 'HumanEval/153'}\n",
      "\n",
      "Tasks where none passes but planner fails (HumanEval+):\n",
      "{'HumanEval/18', 'HumanEval/44', 'HumanEval/128', 'HumanEval/119', 'HumanEval/154', 'HumanEval/144', 'HumanEval/78', 'HumanEval/123', 'HumanEval/67', 'HumanEval/57', 'HumanEval/101', 'HumanEval/113', 'HumanEval/19', 'HumanEval/97', 'HumanEval/40', 'HumanEval/0', 'HumanEval/148', 'HumanEval/85', 'HumanEval/20', 'HumanEval/103', 'HumanEval/90', 'HumanEval/114', 'HumanEval/11', 'HumanEval/54'}\n",
      "\n",
      "Tasks where planner passes but none fails (HumanEval+):\n",
      "{'HumanEval/94', 'HumanEval/142', 'HumanEval/93', 'HumanEval/127', 'HumanEval/98', 'HumanEval/37', 'HumanEval/96', 'HumanEval/156', 'HumanEval/25', 'HumanEval/153', 'HumanEval/83'}\n"
     ]
    }
   ],
   "source": [
    "import json\n",
    "import os\n",
    "\n",
    "def load_results(workdir: str):\n",
    "    with open(os.path.join(workdir, \"eval_results.json\"), \"r\") as f:\n",
    "        return json.loads(f.read())\n",
    "\n",
    "def check_failures(results):\n",
    "    failed_humaneval = []\n",
    "    failed_humaneval_plus = []\n",
    "\n",
    "    for task_id in results['eval']:\n",
    "        if results['eval'][task_id][0]['base_status'] != \"pass\":\n",
    "            failed_humaneval.append(task_id)\n",
    "        if results['eval'][task_id][0]['plus_status'] != \"pass\":\n",
    "            failed_humaneval_plus.append(task_id)\n",
    "\n",
    "    return failed_humaneval, failed_humaneval_plus\n",
    "\n",
    "def compare_results(dir1: str, dir2: str):\n",
    "    results1 = load_results(dir1)\n",
    "    results2 = load_results(dir2)\n",
    "\n",
    "    failed1_base, failed1_plus = check_failures(results1)\n",
    "    failed2_base, failed2_plus = check_failures(results2)\n",
    "\n",
    "    name1 = dir1.split(\"/\")[-1]\n",
    "    name2 = dir2.split(\"/\")[-1]\n",
    "\n",
    "    print(f\"Failures in {name1}:\")\n",
    "    print(f\"HumanEval: {len(failed1_base)}, HumanEval+: {len(failed1_plus)}\")\n",
    "    print(f\"\\nFailures in {name2}:\")\n",
    "    print(f\"HumanEval: {len(failed2_base)}, HumanEval+: {len(failed2_plus)}\")\n",
    "\n",
    "    print(f\"\\nTasks where {name1} passes but {name2} fails (HumanEval):\")\n",
    "    print(set(failed2_base) - set(failed1_base))\n",
    "\n",
    "    print(f\"\\nTasks where {name2} passes but {name1} fails (HumanEval):\")\n",
    "    print(set(failed1_base) - set(failed2_base))\n",
    "\n",
    "    print(f\"\\nTasks where {name1} passes but {name2} fails (HumanEval+):\")\n",
    "    print(set(failed2_plus) - set(failed1_plus))\n",
    "\n",
    "    print(f\"\\nTasks where {name2} passes but {name1} fails (HumanEval+):\")\n",
    "    print(set(failed1_plus) - set(failed2_plus))\n",
    "\n",
    "\n",
    "# Example usage\n",
    "DIR1 = \"Phi-3-mini-4k-instruct-output/none\"\n",
    "DIR2 = \"Phi-3-mini-4k-instruct-output/planner\"\n",
    "\n",
    "compare_results(DIR1, DIR2)"
   ]
  },
  {
   "cell_type": "code",
   "execution_count": null,
   "metadata": {},
   "outputs": [],
   "source": []
  }
 ],
 "metadata": {
  "kernelspec": {
   "display_name": "inference",
   "language": "python",
   "name": "python3"
  },
  "language_info": {
   "codemirror_mode": {
    "name": "ipython",
    "version": 3
   },
   "file_extension": ".py",
   "mimetype": "text/x-python",
   "name": "python",
   "nbconvert_exporter": "python",
   "pygments_lexer": "ipython3",
   "version": "3.9.19"
  }
 },
 "nbformat": 4,
 "nbformat_minor": 2
}
