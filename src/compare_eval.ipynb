{
 "cells": [
  {
   "cell_type": "code",
   "execution_count": 2,
   "metadata": {},
   "outputs": [
    {
     "name": "stdout",
     "output_type": "stream",
     "text": [
      "Failures in planner_gran:\n",
      "HumanEval: 68, HumanEval+: 78\n",
      "\n",
      "Failures in none:\n",
      "HumanEval: 50, HumanEval+: 59\n",
      "\n",
      "Tasks where planner_gran passes but none fails (HumanEval):\n",
      "{'HumanEval/142', 'HumanEval/121', 'HumanEval/9', 'HumanEval/105', 'HumanEval/114', 'HumanEval/151', 'HumanEval/155', 'HumanEval/127', 'HumanEval/90', 'HumanEval/36', 'HumanEval/144', 'HumanEval/139'}\n",
      "\n",
      "Tasks where none passes but planner_gran fails (HumanEval):\n",
      "{'HumanEval/78', 'HumanEval/37', 'HumanEval/89', 'HumanEval/159', 'HumanEval/101', 'HumanEval/135', 'HumanEval/67', 'HumanEval/19', 'HumanEval/112', 'HumanEval/83', 'HumanEval/84', 'HumanEval/141', 'HumanEval/116', 'HumanEval/113', 'HumanEval/73', 'HumanEval/49', 'HumanEval/76', 'HumanEval/35', 'HumanEval/161', 'HumanEval/65', 'HumanEval/17', 'HumanEval/77', 'HumanEval/57', 'HumanEval/40', 'HumanEval/21', 'HumanEval/103', 'HumanEval/43', 'HumanEval/109', 'HumanEval/128', 'HumanEval/153'}\n",
      "\n",
      "Tasks where planner_gran passes but none fails (HumanEval+):\n",
      "{'HumanEval/142', 'HumanEval/121', 'HumanEval/105', 'HumanEval/114', 'HumanEval/151', 'HumanEval/48', 'HumanEval/155', 'HumanEval/44', 'HumanEval/25', 'HumanEval/90', 'HumanEval/127', 'HumanEval/36', 'HumanEval/144', 'HumanEval/139'}\n",
      "\n",
      "Tasks where none passes but planner_gran fails (HumanEval+):\n",
      "{'HumanEval/78', 'HumanEval/46', 'HumanEval/37', 'HumanEval/89', 'HumanEval/159', 'HumanEval/101', 'HumanEval/135', 'HumanEval/67', 'HumanEval/19', 'HumanEval/128', 'HumanEval/112', 'HumanEval/83', 'HumanEval/84', 'HumanEval/141', 'HumanEval/113', 'HumanEval/73', 'HumanEval/49', 'HumanEval/50', 'HumanEval/31', 'HumanEval/65', 'HumanEval/161', 'HumanEval/17', 'HumanEval/57', 'HumanEval/97', 'HumanEval/40', 'HumanEval/28', 'HumanEval/86', 'HumanEval/103', 'HumanEval/43', 'HumanEval/109', 'HumanEval/35', 'HumanEval/153', 'HumanEval/150'}\n"
     ]
    }
   ],
   "source": [
    "import json\n",
    "import os\n",
    "\n",
    "def load_results(workdir: str):\n",
    "    with open(os.path.join(workdir, \"eval_results.json\"), \"r\") as f:\n",
    "        return json.loads(f.read())\n",
    "\n",
    "def check_failures(results):\n",
    "    failed_humaneval = []\n",
    "    failed_humaneval_plus = []\n",
    "\n",
    "    for task_id in results['eval']:\n",
    "        if results['eval'][task_id][0]['base_status'] != \"pass\":\n",
    "            failed_humaneval.append(task_id)\n",
    "        if results['eval'][task_id][0]['plus_status'] != \"pass\":\n",
    "            failed_humaneval_plus.append(task_id)\n",
    "\n",
    "    return failed_humaneval, failed_humaneval_plus\n",
    "\n",
    "def compare_results(dir1: str, dir2: str):\n",
    "    results1 = load_results(dir1)\n",
    "    results2 = load_results(dir2)\n",
    "\n",
    "    failed1_base, failed1_plus = check_failures(results1)\n",
    "    failed2_base, failed2_plus = check_failures(results2)\n",
    "\n",
    "    name1 = dir1.split(\"/\")[-1]\n",
    "    name2 = dir2.split(\"/\")[-1]\n",
    "\n",
    "    print(f\"Failures in {name1}:\")\n",
    "    print(f\"HumanEval: {len(failed1_base)}, HumanEval+: {len(failed1_plus)}\")\n",
    "    print(f\"\\nFailures in {name2}:\")\n",
    "    print(f\"HumanEval: {len(failed2_base)}, HumanEval+: {len(failed2_plus)}\")\n",
    "\n",
    "    print(f\"\\nTasks where {name1} passes but {name2} fails (HumanEval):\")\n",
    "    print(set(failed2_base) - set(failed1_base))\n",
    "\n",
    "    print(f\"\\nTasks where {name2} passes but {name1} fails (HumanEval):\")\n",
    "    print(set(failed1_base) - set(failed2_base))\n",
    "\n",
    "    print(f\"\\nTasks where {name1} passes but {name2} fails (HumanEval+):\")\n",
    "    print(set(failed2_plus) - set(failed1_plus))\n",
    "\n",
    "    print(f\"\\nTasks where {name2} passes but {name1} fails (HumanEval+):\")\n",
    "    print(set(failed1_plus) - set(failed2_plus))\n",
    "\n",
    "\n",
    "# Example usage\n",
    "DIR1 = \"Phi-3-mini-4k-instruct-output/planner_gran\"\n",
    "DIR2 = \"Phi-3-mini-4k-instruct-output/none\"\n",
    "\n",
    "compare_results(DIR1, DIR2)"
   ]
  },
  {
   "cell_type": "markdown",
   "metadata": {},
   "source": []
  },
  {
   "cell_type": "code",
   "execution_count": null,
   "metadata": {},
   "outputs": [],
   "source": []
  }
 ],
 "metadata": {
  "kernelspec": {
   "display_name": "inference",
   "language": "python",
   "name": "python3"
  },
  "language_info": {
   "codemirror_mode": {
    "name": "ipython",
    "version": 3
   },
   "file_extension": ".py",
   "mimetype": "text/x-python",
   "name": "python",
   "nbconvert_exporter": "python",
   "pygments_lexer": "ipython3",
   "version": "3.9.19"
  }
 },
 "nbformat": 4,
 "nbformat_minor": 2
}
