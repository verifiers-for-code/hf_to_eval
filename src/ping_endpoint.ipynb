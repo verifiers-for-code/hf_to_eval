{
 "cells": [
  {
   "cell_type": "code",
   "execution_count": 41,
   "metadata": {},
   "outputs": [],
   "source": [
    "import requests\n",
    "from datasets import load_dataset\n",
    "from tqdm import tqdm\n",
    "\n",
    "def make_openai_request(content: str, model: str = \"string\", temperature: float = 0, max_tokens: int = 0, url: str = \"http://stargate:8000/v1/chat/completions\"):\n",
    "    payload = {\n",
    "        \"model\": model,\n",
    "        \"messages\": [\n",
    "            { \"role\": \"user\", \"content\": content }\n",
    "        ],\n",
    "        \"temperature\": temperature,\n",
    "        \"max_tokens\": max_tokens,\n",
    "    }\n",
    "    headers = { \"Content-Type\": \"application/json\" }\n",
    "    response = requests.post(url, headers=headers, json=payload)\n",
    "    return response.json()\n",
    "\n",
    "def process_item(prompt: str):\n",
    "    response = make_openai_request(prompt, \n",
    "                                   model = \"microsoft/Phi-3-mini-4k-instruct\", \n",
    "                                   max_tokens=2048,\n",
    "                                   temperature=1)\n",
    "    return {'prompt': prompt, 'response': response}\n",
    "\n",
    "def process_dataset(dataset_name: str):\n",
    "    dataset = load_dataset(dataset_name)\n",
    "    train_data = dataset['test']\n",
    "    results = []\n",
    "    count = 0\n",
    "    for item in tqdm(train_data, desc=\"Processing prompts\"):\n",
    "        if count == 5:\n",
    "            break\n",
    "        result = process_item(item['prompt'])\n",
    "        results.append(result)\n",
    "       \n",
    "        count += 1\n",
    "        # print(result['response'])\n",
    "    return results"
   ]
  },
  {
   "cell_type": "code",
   "execution_count": 42,
   "metadata": {},
   "outputs": [
    {
     "name": "stderr",
     "output_type": "stream",
     "text": [
      "Processing prompts:   3%|▎         | 5/164 [01:09<36:55, 13.93s/it]\n"
     ]
    }
   ],
   "source": [
    "DATASET_NAME = \"verifiers-for-code/humaneval_plan_generation\"\n",
    "results = process_dataset(DATASET_NAME)"
   ]
  },
  {
   "cell_type": "code",
   "execution_count": 49,
   "metadata": {},
   "outputs": [
    {
     "name": "stdout",
     "output_type": "stream",
     "text": [
      "<thinking>\n",
      "To create an action plan for this problem, I'll break down the solution into logical steps and explain the key concepts. The solution uses sorting, a sliding window approach, and comparison of adjacent elements. I'll structure the plan to guide the implementation without providing the exact code.\n",
      "</thinking>\n",
      "\n",
      "<plan>\n",
      "from typing import List\n",
      "\n",
      "\n",
      "def has_close_elements(numbers: List[float], threshold: float) -> bool:\n",
      "    \"\"\" Check if in given list of numbers, are any two numbers closer to each other than\n",
      "    given threshold.\n",
      "    >>> has_close_elements([1.0, 2.0, 3.0], 0.5)\n",
      "    False\n",
      "    >>> has_close_elements([1.0, 2.8, 3.0, 4.0, 5.0, 2.0], 0.3)\n",
      "    True\n",
      "\n",
      "    Action Plan:\n",
      "    1. Sort the input list of numbers in ascending order.\n",
      "    2. Initialize a variable to keep track of the current minimum difference found.\n",
      "    3. Iterate through the sorted list using a sliding window approach:\n",
      "       a. For each pair of adjacent elements (i, i+1):\n",
      "          - Calculate the absolute difference between the two numbers.\n",
      "          - If this difference is smaller than the current minimum difference:\n",
      "            - Update the minimum difference.\n",
      "    4. After the iteration, compare the final minimum difference with the threshold:\n",
      "       - If the minimum difference is less than the threshold, return True (indicating close elements found).\n",
      "       - Otherwise, return False (no close elements found).\n",
      "\n",
      "    Note: The sliding window approach ensures that we compare each pair of adjacent elements\n",
      "    only once, which is more efficient than comparing all possible pairs.\n",
      "    \"\"\"\n",
      "\n",
      "</plan>\n"
     ]
    }
   ],
   "source": [
    "print(results[0][\"response\"][\"choices\"][0][\"message\"][\"content\"])"
   ]
  },
  {
   "cell_type": "code",
   "execution_count": 24,
   "metadata": {},
   "outputs": [
    {
     "data": {
      "text/plain": [
       "'<thinking>\\nTo design an action plan for this problem, I\\'ll break down the solution into logical steps that guide the implementation without giving away the exact code. The plan should cover the main components of the solution, including the initialization of variables, the loop to compare elements, the calculation of distances, and the final return value. I\\'ll provide clear instructions for each step, using the existing code structure and comments as a reference. The plan should be comprehensive enough to guide the implementation without providing the exact solution.\\n</thinking>\\n\\n<plan>\\ndef has_close_elements(numbers: List[float], threshold: float) -> bool:\\n    \"\"\" Check if in given list of numbers, are any two numbers closer to each other than\\n    given threshold.\\n    >>> has_close_elements([1.0, 2.0, 3.0], 0.5)\\n    False\\n    >>> has_close_elements([1.0, 2.8, 3.0, 4.0, 5.0, 2.0], 0.3)\\n    True\\n    \"\"\"\\n\\n    # Step 1: Initialize a variable to store the closest distance\\n    closest_distance = float(\\'inf\\')\\n\\n    # Step 2: Iterate through each pair of numbers in the list\\n    for i in range(len(numbers)):\\n        for j in range(i + 1, len(numbers)):\\n\\n            # Step 3: Calculate the absolute difference between the pair\\n            distance = abs(numbers[i] - numbers[j])\\n\\n            # Step 4: Update the closest distance if the current distance is smaller\\n            if distance < closest_distance:\\n                closest_distance = distance\\n\\n    # Step 5: Check if the closest distance is less than the threshold\\n    return closest_distance < threshold\\n</plan>'"
      ]
     },
     "execution_count": 24,
     "metadata": {},
     "output_type": "execute_result"
    }
   ],
   "source": [
    "results[0][\"response\"][\"choices\"][0][\"message\"][\"content\"]"
   ]
  },
  {
   "cell_type": "code",
   "execution_count": 25,
   "metadata": {},
   "outputs": [],
   "source": [
    "phi3_plans = [result[\"response\"][\"choices\"][0][\"message\"][\"content\"] for result in results]"
   ]
  },
  {
   "cell_type": "code",
   "execution_count": 26,
   "metadata": {},
   "outputs": [],
   "source": [
    "NEW_COL_NAME = \"phi3-good-plans\""
   ]
  },
  {
   "cell_type": "code",
   "execution_count": 27,
   "metadata": {},
   "outputs": [
    {
     "data": {
      "text/plain": [
       "['task_id',\n",
       " 'prompt',\n",
       " 'canonical_solution',\n",
       " 'test',\n",
       " 'entry_point',\n",
       " 'sonnet-3.5_gold_plans',\n",
       " 'cleaned_sonnet-3.5_gold_plans',\n",
       " 'generated_phi3_baseline',\n",
       " 'generated_phi3_plan_generation',\n",
       " 'phi3-planner-plans',\n",
       " 'cleaned-phi3-planner-plans',\n",
       " 'self_planning_Phi-3-mini-4k-instruct',\n",
       " 'cleaned-self_planning_Phi-3-mini-4k-instruct',\n",
       " 'phi3-planner-granular',\n",
       " 'cleaned-phi3-planner-granular',\n",
       " 'phi3-good-plans']"
      ]
     },
     "execution_count": 27,
     "metadata": {},
     "output_type": "execute_result"
    }
   ],
   "source": [
    "\n",
    "from datasets import load_dataset, Dataset\n",
    "dataset = load_dataset(DATASET_NAME)\n",
    "\n",
    "# Extract the 'test' split we worked with\n",
    "test_data = dataset['test']\n",
    "\n",
    "# Create a list of the new column data\n",
    "phi3_plans = [result[\"response\"][\"choices\"][0][\"message\"][\"content\"] for result in results]\n",
    "\n",
    "if NEW_COL_NAME in test_data.column_names:\n",
    "    test_data = test_data.remove_columns(NEW_COL_NAME)\n",
    "\n",
    "# Add the new column to the dataset\n",
    "test_data = test_data.add_column(NEW_COL_NAME, phi3_plans)\n",
    "\n",
    "test_data.column_names\n"
   ]
  },
  {
   "cell_type": "code",
   "execution_count": 29,
   "metadata": {},
   "outputs": [
    {
     "name": "stderr",
     "output_type": "stream",
     "text": [
      "Saving the dataset (1/1 shards): 100%|██████████| 164/164 [00:00<00:00, 9306.30 examples/s] \n"
     ]
    }
   ],
   "source": [
    "test_data.save_to_disk(\"phi3_good_plans\")"
   ]
  },
  {
   "cell_type": "code",
   "execution_count": 30,
   "metadata": {},
   "outputs": [
    {
     "name": "stderr",
     "output_type": "stream",
     "text": [
      "Creating parquet from Arrow format: 100%|██████████| 1/1 [00:00<00:00, 53.29ba/s]\n",
      "Uploading the dataset shards: 100%|██████████| 1/1 [00:00<00:00,  8.17it/s]\n"
     ]
    },
    {
     "data": {
      "text/plain": [
       "CommitInfo(commit_url='https://huggingface.co/datasets/verifiers-for-code/humaneval_plan_generation/commit/9df8b9a40ffa3e41fffa4e7aa06c4f628c29c8c8', commit_message='Upload dataset', commit_description='', oid='9df8b9a40ffa3e41fffa4e7aa06c4f628c29c8c8', pr_url=None, pr_revision=None, pr_num=None)"
      ]
     },
     "execution_count": 30,
     "metadata": {},
     "output_type": "execute_result"
    }
   ],
   "source": [
    "test_data.push_to_hub(DATASET_NAME, split=\"test\")"
   ]
  },
  {
   "cell_type": "code",
   "execution_count": null,
   "metadata": {},
   "outputs": [
    {
     "name": "stderr",
     "output_type": "stream",
     "text": [
      "Downloading readme: 100%|██████████| 936/936 [00:00<00:00, 4.19MB/s]\n",
      "Downloading data: 100%|██████████| 979k/979k [00:00<00:00, 4.22MB/s]\n",
      "Generating test split: 100%|██████████| 164/164 [00:00<00:00, 11555.33 examples/s]\n"
     ]
    }
   ],
   "source": [
    "dataset = load_dataset(DATASET_NAME)"
   ]
  },
  {
   "cell_type": "code",
   "execution_count": null,
   "metadata": {},
   "outputs": [
    {
     "data": {
      "text/plain": [
       "['task_id',\n",
       " 'prompt',\n",
       " 'canonical_solution',\n",
       " 'test',\n",
       " 'entry_point',\n",
       " 'sonnet-3.5_gold_plans',\n",
       " 'cleaned_sonnet-3.5_gold_plans',\n",
       " 'generated_phi3_baseline',\n",
       " 'generated_phi3_plan_generation',\n",
       " 'phi3-planner-plans',\n",
       " 'cleaned-phi3-planner-plans',\n",
       " 'self_planning_Phi-3-mini-4k-instruct',\n",
       " 'cleaned-self_planning_Phi-3-mini-4k-instruct',\n",
       " 'phi3-planner-granular']"
      ]
     },
     "execution_count": 20,
     "metadata": {},
     "output_type": "execute_result"
    }
   ],
   "source": [
    "dataset['test'].column_names"
   ]
  },
  {
   "cell_type": "code",
   "execution_count": null,
   "metadata": {},
   "outputs": [],
   "source": []
  }
 ],
 "metadata": {
  "kernelspec": {
   "display_name": "inference",
   "language": "python",
   "name": "python3"
  },
  "language_info": {
   "codemirror_mode": {
    "name": "ipython",
    "version": 3
   },
   "file_extension": ".py",
   "mimetype": "text/x-python",
   "name": "python",
   "nbconvert_exporter": "python",
   "pygments_lexer": "ipython3",
   "version": "3.9.19"
  }
 },
 "nbformat": 4,
 "nbformat_minor": 2
}
