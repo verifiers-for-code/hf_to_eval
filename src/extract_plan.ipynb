{
 "cells": [
  {
   "cell_type": "code",
   "execution_count": 2,
   "metadata": {},
   "outputs": [
    {
     "name": "stderr",
     "output_type": "stream",
     "text": [
      "Downloading readme: 100%|██████████| 1.14k/1.14k [00:00<00:00, 5.11MB/s]\n",
      "Downloading data: 100%|██████████| 1.34M/1.34M [00:00<00:00, 4.99MB/s]\n",
      "Generating test split: 100%|██████████| 164/164 [00:00<00:00, 8325.56 examples/s]\n",
      "Map: 100%|██████████| 164/164 [00:00<00:00, 2617.30 examples/s]"
     ]
    },
    {
     "name": "stdout",
     "output_type": "stream",
     "text": [
      "\n",
      "\n",
      "def correct_bracketing(brackets: str):\n",
      "    \"\"\" brackets is a string of \"<\" and \">\".\n",
      "    return True if every opening bracket has a corresponding closing bracket.\n",
      "\n",
      "    >>> correct_bracketing(\"<\")\n",
      "    False\n",
      "    >>> correct_bracketing(\"<>\")\n",
      "    True\n",
      "    >>> correct_bracketing(\"<<><>>\")\n",
      "    True\n",
      "    >>> correct_bracketing(\"><<>\")\n",
      "    False\n",
      "    \n",
      "\n",
      "    Action Plan:\n",
      "    1. Initialize an empty stack to store opening brackets encountered.\n",
      "    2. Iterate through each character in the input string:\n",
      "        a. If the character is an opening bracket, push it onto the stack.\n",
      "        b. If the character is a closing bracket:\n",
      "            i. Check if the stack is empty (no corresponding opening bracket).\n",
      "            ii. If the stack is empty, return False (no matching opening bracket).\n",
      "            iii. Pop the topmost opening bracket from the stack.\n",
      "    3. After iterating through the entire string, check if the stack is empty:\n",
      "        a. If the stack is empty, return True (all opening brackets have corresponding closing brackets).\n",
      "        b. If the stack is not empty, return False (some opening brackets have no matching closing brackets).\"\"\"\n",
      "\n"
     ]
    },
    {
     "name": "stderr",
     "output_type": "stream",
     "text": [
      "\n"
     ]
    }
   ],
   "source": [
    "import re\n",
    "from datasets import load_dataset\n",
    "\n",
    "DATASET_NAME = \"verifiers-for-code/humaneval_plan_generation\"\n",
    "COL_TO_CLEAN = \"l3_plans_new\"\n",
    "COL_CLEANED_NAME = \"cleaned-\" + COL_TO_CLEAN\n",
    "\n",
    "dataset = load_dataset(DATASET_NAME, split=\"test\")\n",
    "\n",
    "def extract_plan(text):\n",
    "    start_match = re.search(r'<plan>', text)\n",
    "    if start_match:\n",
    "        start_index = start_match.end()\n",
    "        end_match = re.search(r'</plan>', text[start_index:])\n",
    "        \n",
    "        if end_match:\n",
    "            end_index = start_index + end_match.start()\n",
    "            plan = text[start_index:end_index].strip()\n",
    "        else:\n",
    "            # If no closing tag, include everything after <plan>\n",
    "            plan = text[start_index:].strip()\n",
    "        \n",
    "        return plan.split('\\n')\n",
    "    else:\n",
    "        print(\"No plan found in text\")\n",
    "    return []\n",
    "\n",
    "def insert_plan_into_docstring(prompt, plan):\n",
    "    # Find the end of the docstring\n",
    "    docstring_start = prompt.find('\"\"\"')\n",
    "    docstring_end = prompt.find('\"\"\"', docstring_start + 3)\n",
    "    \n",
    "    # If there's no docstring or it's malformed, return the original prompt\n",
    "    if docstring_end == -1:\n",
    "        return prompt\n",
    "    \n",
    "    # Get the indentation of the closing docstring\n",
    "    closing_indent = prompt.rfind('\\n', 0, docstring_end) + 1\n",
    "    indent = prompt[closing_indent:docstring_end].replace('\"\"\"', '')\n",
    "    \n",
    "    # Prepare the plan text with proper indentation, without \"Plan:\" header\n",
    "    plan_text = \"\\n\\n\" + \"\\n\".join(indent + line for line in plan)\n",
    "    \n",
    "    return prompt[:docstring_end] + plan_text + prompt[docstring_end:]\n",
    "\n",
    "# Apply the extraction and insertion to the dataset\n",
    "def process_item(item):\n",
    "    plan = extract_plan(item[COL_TO_CLEAN])\n",
    "    new_prompt = insert_plan_into_docstring(item['prompt'], plan)\n",
    "    item[COL_CLEANED_NAME] = new_prompt  # Add the new column to the item\n",
    "    return item  # Return the entire item with the new column\n",
    "\n",
    "dataset = dataset.map(process_item)\n",
    "\n",
    "# Print a sample to verify\n",
    "print(dataset[56][COL_CLEANED_NAME])"
   ]
  },
  {
   "cell_type": "code",
   "execution_count": 5,
   "metadata": {},
   "outputs": [
    {
     "name": "stdout",
     "output_type": "stream",
     "text": [
      "\n",
      "def order_by_points(nums):\n",
      "    \"\"\"\n",
      "    Write a function which sorts the given list of integers\n",
      "    in ascending order according to the sum of their digits.\n",
      "    Note: if there are several items with similar sum of their digits,\n",
      "    order them based on their index in original list.\n",
      "\n",
      "    For example:\n",
      "    >>> order_by_points([1, 11, -1, -11, -12]) == [-1, -11, 1, -12, 11]\n",
      "    >>> order_by_points([]) == []\n",
      "    \n",
      "\n",
      "    Action Plan:\n",
      "    1. Define a helper function `sum_of_digits` that takes an integer as input and returns the sum of its digits.\n",
      "        - Convert the number to a string to iterate over its digits\n",
      "        - Initialize a variable to store the sum of digits\n",
      "        - Iterate over each digit in the string:\n",
      "            - Convert the digit back to an integer\n",
      "            - Add the integer to the sum\n",
      "        - Return the sum of digits\n",
      "    \n",
      "    2. Use the `sorted` function to sort the input list `nums`.\n",
      "        - Pass the `sum_of_digits` function as the `key` parameter to the `sorted` function.\n",
      "        - This will sort the list based on the sum of digits for each number.\n",
      "    \n",
      "    3. Since the `sorted` function is stable, it will handle the case where multiple numbers have the same sum of digits.\n",
      "        - The order of these numbers will be determined by their original index in the list.\n",
      "    \n",
      "    4. Return the sorted list.\n",
      "    \n",
      "    Note: The `sorted` function returns a new list and does not modify the original list.\n",
      "    Make sure to handle the case where the input list is empty.\"\"\"\n",
      "\n"
     ]
    }
   ],
   "source": [
    "print(dataset[-19][COL_CLEANED_NAME])"
   ]
  },
  {
   "cell_type": "code",
   "execution_count": 2,
   "metadata": {},
   "outputs": [
    {
     "data": {
      "text/plain": [
       "['task_id',\n",
       " 'prompt',\n",
       " 'canonical_solution',\n",
       " 'test',\n",
       " 'entry_point',\n",
       " 'sonnet-3.5_gold_plans',\n",
       " 'cleaned_sonnet-3.5_gold_plans',\n",
       " 'generated_phi3_baseline',\n",
       " 'generated_phi3_plan_generation',\n",
       " 'phi3-planner-plans',\n",
       " 'cleaned-phi3-planner-plans',\n",
       " 'self_planning_Phi-3-mini-4k-instruct',\n",
       " 'cleaned-self_planning_Phi-3-mini-4k-instruct',\n",
       " 'phi3-planner-granular',\n",
       " 'cleaned-phi3-planner-granular',\n",
       " 'l3_plans_non_gran',\n",
       " 'cleaned-l3_plans_non_gran']"
      ]
     },
     "execution_count": 2,
     "metadata": {},
     "output_type": "execute_result"
    }
   ],
   "source": [
    "dataset.column_names"
   ]
  },
  {
   "cell_type": "code",
   "execution_count": 3,
   "metadata": {},
   "outputs": [
    {
     "name": "stderr",
     "output_type": "stream",
     "text": [
      "Creating parquet from Arrow format: 100%|██████████| 1/1 [00:00<00:00, 46.15ba/s]\n",
      "Uploading the dataset shards: 100%|██████████| 1/1 [00:00<00:00,  2.39it/s]\n"
     ]
    },
    {
     "data": {
      "text/plain": [
       "CommitInfo(commit_url='https://huggingface.co/datasets/verifiers-for-code/humaneval_plan_generation/commit/52b0482dc76bd8ea2fe262b0bcafb7da3f77bf95', commit_message='Upload dataset', commit_description='', oid='52b0482dc76bd8ea2fe262b0bcafb7da3f77bf95', pr_url=None, pr_revision=None, pr_num=None)"
      ]
     },
     "execution_count": 3,
     "metadata": {},
     "output_type": "execute_result"
    }
   ],
   "source": [
    "dataset.push_to_hub(DATASET_NAME, split=\"test\")"
   ]
  },
  {
   "cell_type": "code",
   "execution_count": null,
   "metadata": {},
   "outputs": [],
   "source": []
  }
 ],
 "metadata": {
  "kernelspec": {
   "display_name": "inference",
   "language": "python",
   "name": "python3"
  },
  "language_info": {
   "codemirror_mode": {
    "name": "ipython",
    "version": 3
   },
   "file_extension": ".py",
   "mimetype": "text/x-python",
   "name": "python",
   "nbconvert_exporter": "python",
   "pygments_lexer": "ipython3",
   "version": "3.9.19"
  }
 },
 "nbformat": 4,
 "nbformat_minor": 2
}
