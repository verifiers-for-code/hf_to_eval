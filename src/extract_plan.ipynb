{
 "cells": [
  {
   "cell_type": "code",
   "execution_count": 1,
   "metadata": {},
   "outputs": [
    {
     "name": "stderr",
     "output_type": "stream",
     "text": [
      "/home/vaibhav/miniconda3/envs/inference/lib/python3.9/site-packages/tqdm/auto.py:21: TqdmWarning: IProgress not found. Please update jupyter and ipywidgets. See https://ipywidgets.readthedocs.io/en/stable/user_install.html\n",
      "  from .autonotebook import tqdm as notebook_tqdm\n",
      "Downloading readme: 100%|██████████| 476/476 [00:00<00:00, 2.27MB/s]\n",
      "Downloading data: 100%|██████████| 151k/151k [00:00<00:00, 649kB/s]\n",
      "Generating test split: 100%|██████████| 164/164 [00:00<00:00, 26749.60 examples/s]\n",
      "Map: 100%|██████████| 164/164 [00:00<00:00, 8019.42 examples/s]"
     ]
    },
    {
     "name": "stdout",
     "output_type": "stream",
     "text": [
      "\n",
      "\n",
      "def correct_bracketing(brackets: str):\n",
      "    \"\"\" brackets is a string of \"<\" and \">\".\n",
      "    return True if every opening bracket has a corresponding closing bracket.\n",
      "\n",
      "    >>> correct_bracketing(\"<\")\n",
      "    False\n",
      "    >>> correct_bracketing(\"<>\")\n",
      "    True\n",
      "    >>> correct_bracketing(\"<<><>>\")\n",
      "    True\n",
      "    >>> correct_bracketing(\"><<>\")\n",
      "    False\n",
      "    \n",
      "\n",
      "    Action Plan:\n",
      "    1. Initialize a counter to track the depth of opening brackets.\n",
      "    2. Iterate through each character in the input brackets string:\n",
      "       a. If the character is an opening bracket \"<\", increment the depth counter.\n",
      "       b. If the character is a closing bracket \">\", decrement the depth counter.\n",
      "       c. If the depth counter becomes negative at any point, immediately return False (indicating incorrect bracketing).\n",
      "    3. After iterating through the entire string, check if the depth counter is 0.\n",
      "       a. If it is, return True (indicating correct bracketing).\n",
      "       b. If it's not, return False (indicating incorrect bracketing).\"\"\"\n",
      "\n"
     ]
    },
    {
     "name": "stderr",
     "output_type": "stream",
     "text": [
      "\n"
     ]
    }
   ],
   "source": [
    "import re\n",
    "from datasets import load_dataset\n",
    "\n",
    "DATASET_NAME = \"verifiers-for-code/gold_tester_llama\"\n",
    "COL_TO_CLEAN = \"gold_plans_llama-3-70B\"\n",
    "COL_CLEANED_NAME = \"cleaned-\" + COL_TO_CLEAN\n",
    "\n",
    "dataset = load_dataset(DATASET_NAME, split=\"test\")\n",
    "\n",
    "def extract_plan(text):\n",
    "    start_match = re.search(r'<plan>', text)\n",
    "    if start_match:\n",
    "        start_index = start_match.end()\n",
    "        end_match = re.search(r'</plan>', text[start_index:])\n",
    "        \n",
    "        if end_match:\n",
    "            end_index = start_index + end_match.start()\n",
    "            plan = text[start_index:end_index].strip()\n",
    "        else:\n",
    "            # If no closing tag, include everything after <plan>\n",
    "            plan = text[start_index:].strip()\n",
    "        \n",
    "        return plan.split('\\n')\n",
    "    else:\n",
    "        print(\"No plan found in text\")\n",
    "    return []\n",
    "\n",
    "def insert_plan_into_docstring(prompt, plan):\n",
    "    # Find the end of the docstring\n",
    "    docstring_start = prompt.find('\"\"\"')\n",
    "    docstring_end = prompt.find('\"\"\"', docstring_start + 3)\n",
    "    \n",
    "    # If there's no docstring or it's malformed, return the original prompt\n",
    "    if docstring_end == -1:\n",
    "        return prompt\n",
    "    \n",
    "    # Get the indentation of the closing docstring\n",
    "    closing_indent = prompt.rfind('\\n', 0, docstring_end) + 1\n",
    "    indent = prompt[closing_indent:docstring_end].replace('\"\"\"', '')\n",
    "    \n",
    "    # Prepare the plan text with proper indentation, without \"Plan:\" header\n",
    "    plan_text = \"\\n\\n\" + \"\\n\".join(indent + line for line in plan)\n",
    "    \n",
    "    return prompt[:docstring_end] + plan_text + prompt[docstring_end:]\n",
    "\n",
    "# Apply the extraction and insertion to the dataset\n",
    "def process_item(item):\n",
    "    plan = extract_plan(item[COL_TO_CLEAN])\n",
    "    new_prompt = insert_plan_into_docstring(item['prompt'], plan)\n",
    "    item[COL_CLEANED_NAME] = new_prompt  # Add the new column to the item\n",
    "    return item  # Return the entire item with the new column\n",
    "\n",
    "dataset = dataset.map(process_item)\n",
    "\n",
    "# Print a sample to verify\n",
    "print(dataset[56][COL_CLEANED_NAME])"
   ]
  },
  {
   "cell_type": "code",
   "execution_count": 2,
   "metadata": {},
   "outputs": [
    {
     "data": {
      "text/plain": [
       "['task_id',\n",
       " 'prompt',\n",
       " 'canonical_solution',\n",
       " 'test',\n",
       " 'entry_point',\n",
       " 'gold_plans_llama-3-70B',\n",
       " 'cleaned-gold_plans_llama-3-70B']"
      ]
     },
     "execution_count": 2,
     "metadata": {},
     "output_type": "execute_result"
    }
   ],
   "source": [
    "dataset.column_names"
   ]
  },
  {
   "cell_type": "code",
   "execution_count": 3,
   "metadata": {},
   "outputs": [
    {
     "name": "stderr",
     "output_type": "stream",
     "text": [
      "Creating parquet from Arrow format: 100%|██████████| 1/1 [00:00<00:00, 183.17ba/s]\n",
      "Uploading the dataset shards: 100%|██████████| 1/1 [00:00<00:00,  2.28it/s]\n"
     ]
    },
    {
     "data": {
      "text/plain": [
       "CommitInfo(commit_url='https://huggingface.co/datasets/verifiers-for-code/gold_tester_llama/commit/be41a9747a88f5f4ca4adff4e8e4c009d800bf91', commit_message='Upload dataset', commit_description='', oid='be41a9747a88f5f4ca4adff4e8e4c009d800bf91', pr_url=None, pr_revision=None, pr_num=None)"
      ]
     },
     "execution_count": 3,
     "metadata": {},
     "output_type": "execute_result"
    }
   ],
   "source": [
    "dataset.push_to_hub(DATASET_NAME, split=\"test\")"
   ]
  },
  {
   "cell_type": "code",
   "execution_count": null,
   "metadata": {},
   "outputs": [],
   "source": []
  }
 ],
 "metadata": {
  "kernelspec": {
   "display_name": "inference",
   "language": "python",
   "name": "python3"
  },
  "language_info": {
   "codemirror_mode": {
    "name": "ipython",
    "version": 3
   },
   "file_extension": ".py",
   "mimetype": "text/x-python",
   "name": "python",
   "nbconvert_exporter": "python",
   "pygments_lexer": "ipython3",
   "version": "3.9.19"
  }
 },
 "nbformat": 4,
 "nbformat_minor": 2
}
