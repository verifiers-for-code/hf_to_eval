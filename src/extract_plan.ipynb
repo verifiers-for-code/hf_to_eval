{
 "cells": [
  {
   "cell_type": "code",
   "execution_count": 21,
   "metadata": {},
   "outputs": [
    {
     "name": "stderr",
     "output_type": "stream",
     "text": [
      "Map: 100%|██████████| 164/164 [00:00<00:00, 2682.07 examples/s]"
     ]
    },
    {
     "name": "stdout",
     "output_type": "stream",
     "text": [
      "\n",
      "\n",
      "def correct_bracketing(brackets: str):\n",
      "    \"\"\" brackets is a string of \"<\" and \">\".\n",
      "    return True if every opening bracket has a corresponding closing bracket.\n",
      "\n",
      "    >>> correct_bracketing(\"<\")\n",
      "    False\n",
      "    >>> correct_bracketing(\"<>\")\n",
      "    True\n",
      "    >>> correct_bracketing(\"<<><>>\")\n",
      "    True\n",
      "    >>> correct_bracketing(\"><<>\")\n",
      "    False\n",
      "    \n",
      "\n",
      "    1. Initialize an empty stack to store opening brackets\n",
      "       - This stack will keep track of the opening brackets encountered\n",
      "    \n",
      "    2. Iterate through each character in the input string:\n",
      "       a. If the character is \"<\":\n",
      "          - Push it onto the stack\n",
      "       b. If the character is \">\":\n",
      "          - Check if the stack is empty\n",
      "             - If empty, return False (no matching opening bracket)\n",
      "          - Pop the top element from the stack (closing bracket)\n",
      "    \n",
      "    3. After iterating through the entire string:\n",
      "       - Check if the stack is empty\n",
      "          - If empty, return True (all opening brackets have matching closing brackets)\n",
      "          - If not empty, return False (unmatched opening brackets remain)\n",
      "    \n",
      "    Additional implementation details:\n",
      "    - Use a suitable data structure (e.g., list or deque) to implement the stack\n",
      "    - Implement the iteration using a loop (e.g., for loop)\n",
      "    - Use conditional statements (e.g., if-else) to handle the different cases\n",
      "    - Ensure the function handles empty input strings correctly\"\"\"\n",
      "\n"
     ]
    },
    {
     "name": "stderr",
     "output_type": "stream",
     "text": [
      "\n"
     ]
    }
   ],
   "source": [
    "import re\n",
    "from datasets import load_dataset\n",
    "\n",
    "DATASET_NAME = \"verifiers-for-code/humaneval_plan_generation\"\n",
    "COL_TO_CLEAN = \"phi3-planner-granular\"\n",
    "COL_CLEANED_NAME = \"cleaned-\" + COL_TO_CLEAN\n",
    "\n",
    "dataset = load_dataset(DATASET_NAME, split=\"test\")\n",
    "\n",
    "def extract_plan(text):\n",
    "    start_match = re.search(r'<plan>', text)\n",
    "    if start_match:\n",
    "        start_index = start_match.end()\n",
    "        end_match = re.search(r'</plan>', text[start_index:])\n",
    "        \n",
    "        if end_match:\n",
    "            end_index = start_index + end_match.start()\n",
    "            plan = text[start_index:end_index].strip()\n",
    "        else:\n",
    "            # If no closing tag, include everything after <plan>\n",
    "            plan = text[start_index:].strip()\n",
    "        \n",
    "        return plan.split('\\n')\n",
    "    else:\n",
    "        print(\"No plan found in text\")\n",
    "    return []\n",
    "\n",
    "def insert_plan_into_docstring(prompt, plan):\n",
    "    # Find the end of the docstring\n",
    "    docstring_start = prompt.find('\"\"\"')\n",
    "    docstring_end = prompt.find('\"\"\"', docstring_start + 3)\n",
    "    \n",
    "    # If there's no docstring or it's malformed, return the original prompt\n",
    "    if docstring_end == -1:\n",
    "        return prompt\n",
    "    \n",
    "    # Get the indentation of the closing docstring\n",
    "    closing_indent = prompt.rfind('\\n', 0, docstring_end) + 1\n",
    "    indent = prompt[closing_indent:docstring_end].replace('\"\"\"', '')\n",
    "    \n",
    "    # Prepare the plan text with proper indentation, without \"Plan:\" header\n",
    "    plan_text = \"\\n\\n\" + \"\\n\".join(indent + line for line in plan)\n",
    "    \n",
    "    return prompt[:docstring_end] + plan_text + prompt[docstring_end:]\n",
    "\n",
    "# Apply the extraction and insertion to the dataset\n",
    "def process_item(item):\n",
    "    plan = extract_plan(item[COL_TO_CLEAN])\n",
    "    new_prompt = insert_plan_into_docstring(item['prompt'], plan)\n",
    "    item[COL_CLEANED_NAME] = new_prompt  # Add the new column to the item\n",
    "    return item  # Return the entire item with the new column\n",
    "\n",
    "dataset = dataset.map(process_item)\n",
    "\n",
    "# Print a sample to verify\n",
    "print(dataset[56][COL_CLEANED_NAME])"
   ]
  },
  {
   "cell_type": "code",
   "execution_count": 22,
   "metadata": {},
   "outputs": [
    {
     "data": {
      "text/plain": [
       "['task_id',\n",
       " 'prompt',\n",
       " 'canonical_solution',\n",
       " 'test',\n",
       " 'entry_point',\n",
       " 'sonnet-3.5_gold_plans',\n",
       " 'cleaned_sonnet-3.5_gold_plans',\n",
       " 'generated_phi3_baseline',\n",
       " 'generated_phi3_plan_generation',\n",
       " 'phi3-planner-plans',\n",
       " 'cleaned-phi3-planner-plans',\n",
       " 'self_planning_Phi-3-mini-4k-instruct',\n",
       " 'cleaned-self_planning_Phi-3-mini-4k-instruct',\n",
       " 'phi3-planner-granular',\n",
       " 'cleaned-phi3-planner-granular']"
      ]
     },
     "execution_count": 22,
     "metadata": {},
     "output_type": "execute_result"
    }
   ],
   "source": [
    "dataset.column_names"
   ]
  },
  {
   "cell_type": "code",
   "execution_count": 23,
   "metadata": {},
   "outputs": [
    {
     "name": "stderr",
     "output_type": "stream",
     "text": [
      "Creating parquet from Arrow format: 100%|██████████| 1/1 [00:00<00:00, 85.55ba/s]\n",
      "Uploading the dataset shards: 100%|██████████| 1/1 [00:00<00:00,  1.79it/s]\n"
     ]
    },
    {
     "data": {
      "text/plain": [
       "CommitInfo(commit_url='https://huggingface.co/datasets/verifiers-for-code/humaneval_plan_generation/commit/357d582d94700c3ee6d3a7aff12cfb1851dd5142', commit_message='Upload dataset', commit_description='', oid='357d582d94700c3ee6d3a7aff12cfb1851dd5142', pr_url=None, pr_revision=None, pr_num=None)"
      ]
     },
     "execution_count": 23,
     "metadata": {},
     "output_type": "execute_result"
    }
   ],
   "source": [
    "dataset.push_to_hub(DATASET_NAME, split=\"test\")"
   ]
  },
  {
   "cell_type": "code",
   "execution_count": null,
   "metadata": {},
   "outputs": [],
   "source": []
  }
 ],
 "metadata": {
  "kernelspec": {
   "display_name": "inference",
   "language": "python",
   "name": "python3"
  },
  "language_info": {
   "codemirror_mode": {
    "name": "ipython",
    "version": 3
   },
   "file_extension": ".py",
   "mimetype": "text/x-python",
   "name": "python",
   "nbconvert_exporter": "python",
   "pygments_lexer": "ipython3",
   "version": "3.9.19"
  }
 },
 "nbformat": 4,
 "nbformat_minor": 2
}
