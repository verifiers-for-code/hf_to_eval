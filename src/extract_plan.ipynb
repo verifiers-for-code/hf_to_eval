{
 "cells": [
  {
   "cell_type": "code",
   "execution_count": 1,
   "metadata": {},
   "outputs": [
    {
     "name": "stderr",
     "output_type": "stream",
     "text": [
      "/home/vaibhav/miniconda3/envs/inference/lib/python3.9/site-packages/tqdm/auto.py:21: TqdmWarning: IProgress not found. Please update jupyter and ipywidgets. See https://ipywidgets.readthedocs.io/en/stable/user_install.html\n",
      "  from .autonotebook import tqdm as notebook_tqdm\n"
     ]
    }
   ],
   "source": [
    "from datasets import load_dataset\n",
    "import re"
   ]
  },
  {
   "cell_type": "code",
   "execution_count": 12,
   "metadata": {},
   "outputs": [],
   "source": [
    "DATASET_NAME = \"verifiers-for-code/humaneval_plan_generation\"\n",
    "COL_TO_CLEAN = \"phi3-planner-plans\"\n",
    "COL_CLEANED_NAME = \"cleaned-\" + COL_TO_CLEAN"
   ]
  },
  {
   "cell_type": "code",
   "execution_count": 13,
   "metadata": {},
   "outputs": [],
   "source": [
    "dataset = load_dataset(DATASET_NAME, split=\"test\")"
   ]
  },
  {
   "cell_type": "code",
   "execution_count": 14,
   "metadata": {},
   "outputs": [
    {
     "name": "stderr",
     "output_type": "stream",
     "text": [
      "Map: 100%|██████████| 164/164 [00:00<00:00, 3056.71 examples/s]"
     ]
    },
    {
     "name": "stdout",
     "output_type": "stream",
     "text": [
      "['Action Plan:', '1. Understand the problem:', '    - The function takes a list of numbers and a threshold as input', '    - The goal is to check if any two numbers in the list are closer to each other than the given threshold', '', '2. Initialize a variable to store the result (default to False)', '', '3. Iterate through the list of numbers:', '    - For each number, iterate through the rest of the list (excluding the current number)', '    - Calculate the absolute difference between the current number and the other number', '    - Check if the difference is less than or equal to the threshold', '    - If true, set the result to True and break the loop', '', '4. Return the result:', '    - If the result is True, it means there are two numbers closer to each other than the threshold', '    - If the result is False, it means no two numbers are closer to each other than the threshold', '', 'Note: Use appropriate data structures and methods for iteration and comparison.', 'Be careful with the indexing and slicing of the list.']\n"
     ]
    },
    {
     "name": "stderr",
     "output_type": "stream",
     "text": [
      "\n"
     ]
    }
   ],
   "source": [
    "def extract_plan(text):\n",
    "    start_match = re.search(r'<plan>', text)\n",
    "    if start_match:\n",
    "        start_index = start_match.end()\n",
    "        end_match = re.search(r'</plan>', text[start_index:])\n",
    "        \n",
    "        if end_match:\n",
    "            end_index = start_index + end_match.start()\n",
    "            plan = text[start_index:end_index].strip()\n",
    "        else:\n",
    "            # If no closing tag, include everything after <plan>\n",
    "            plan = text[start_index:].strip()\n",
    "        \n",
    "        return plan.split('\\n')\n",
    "    else:\n",
    "        print(\"No plan found in text\")\n",
    "    return []\n",
    "\n",
    "# Apply the extraction to the dataset\n",
    "dataset = dataset.map(lambda x: {COL_CLEANED_NAME: extract_plan(x[COL_TO_CLEAN])})\n",
    "\n",
    "# Print a sample to verify\n",
    "print(dataset[0][COL_CLEANED_NAME])"
   ]
  },
  {
   "cell_type": "code",
   "execution_count": 15,
   "metadata": {},
   "outputs": [
    {
     "name": "stdout",
     "output_type": "stream",
     "text": [
      "from typing import List\n",
      "\n",
      "\n",
      "def has_close_elements(numbers: List[float], threshold: float) -> bool:\n",
      "    \"\"\" Check if in given list of numbers, are any two numbers closer to each other than\n",
      "    given threshold.\n",
      "    >>> has_close_elements([1.0, 2.0, 3.0], 0.5)\n",
      "    False\n",
      "    >>> has_close_elements([1.0, 2.8, 3.0, 4.0, 5.0, 2.0], 0.3)\n",
      "    True\n",
      "    \"\"\"\n",
      "\n"
     ]
    }
   ],
   "source": [
    "print(dataset[0][\"prompt\"])"
   ]
  },
  {
   "cell_type": "code",
   "execution_count": 16,
   "metadata": {},
   "outputs": [
    {
     "name": "stderr",
     "output_type": "stream",
     "text": [
      "Map: 100%|██████████| 164/164 [00:00<00:00, 3060.88 examples/s]"
     ]
    },
    {
     "name": "stdout",
     "output_type": "stream",
     "text": [
      "\n",
      "\n",
      "def correct_bracketing(brackets: str):\n",
      "    \"\"\" brackets is a string of \"<\" and \">\".\n",
      "    return True if every opening bracket has a corresponding closing bracket.\n",
      "\n",
      "    >>> correct_bracketing(\"<\")\n",
      "    False\n",
      "    >>> correct_bracketing(\"<>\")\n",
      "    True\n",
      "    >>> correct_bracketing(\"<<><>>\")\n",
      "    True\n",
      "    >>> correct_bracketing(\"><<>\")\n",
      "    False\n",
      "    \n",
      "\n",
      "    Action Plan:\n",
      "    1. Initialize an empty stack or list to keep track of opening brackets.\n",
      "    2. Iterate through each character in the input string:\n",
      "        a. If a character is an opening bracket (\"<\"), add it to the stack.\n",
      "        b. If a character is a closing bracket (\">\"), check if it corresponds to the last opening bracket.\n",
      "        c. If the stack is empty or the corresponding opening bracket doesn't match, return False.\n",
      "    3. After the iteration, if the stack is empty, all brackets were properly matched and return True.\n",
      "    4. If the stack is not empty, there are unpaired opening brackets and return False.\n",
      "    5. Edge cases to consider:\n",
      "        a. Empty strings\n",
      "        b. Strings with no brackets\n",
      "        c. Strings with only opening or only closing brackets\n",
      "    \n",
      "    6. For additional validations, check that the string contains only \"<\" and \">\" characters.\"\"\"\n",
      "\n"
     ]
    },
    {
     "name": "stderr",
     "output_type": "stream",
     "text": [
      "\n"
     ]
    }
   ],
   "source": [
    "import re\n",
    "from datasets import load_dataset\n",
    "\n",
    "DATASET_NAME = \"verifiers-for-code/humaneval_plan_generation\"\n",
    "COL_TO_CLEAN = \"self_planning_Phi-3-mini-4k-instruct\"\n",
    "COL_CLEANED_NAME = \"cleaned-\" + COL_TO_CLEAN\n",
    "\n",
    "dataset = load_dataset(DATASET_NAME, split=\"test\")\n",
    "\n",
    "def extract_plan(text):\n",
    "    start_match = re.search(r'<plan>', text)\n",
    "    if start_match:\n",
    "        start_index = start_match.end()\n",
    "        end_match = re.search(r'</plan>', text[start_index:])\n",
    "        \n",
    "        if end_match:\n",
    "            end_index = start_index + end_match.start()\n",
    "            plan = text[start_index:end_index].strip()\n",
    "        else:\n",
    "            # If no closing tag, include everything after <plan>\n",
    "            plan = text[start_index:].strip()\n",
    "        \n",
    "        return plan.split('\\n')\n",
    "    else:\n",
    "        print(\"No plan found in text\")\n",
    "    return []\n",
    "\n",
    "def insert_plan_into_docstring(prompt, plan):\n",
    "    # Find the end of the docstring\n",
    "    docstring_start = prompt.find('\"\"\"')\n",
    "    docstring_end = prompt.find('\"\"\"', docstring_start + 3)\n",
    "    \n",
    "    # If there's no docstring or it's malformed, return the original prompt\n",
    "    if docstring_end == -1:\n",
    "        return prompt\n",
    "    \n",
    "    # Get the indentation of the closing docstring\n",
    "    closing_indent = prompt.rfind('\\n', 0, docstring_end) + 1\n",
    "    indent = prompt[closing_indent:docstring_end].replace('\"\"\"', '')\n",
    "    \n",
    "    # Prepare the plan text with proper indentation, without \"Plan:\" header\n",
    "    plan_text = \"\\n\\n\" + \"\\n\".join(indent + line for line in plan)\n",
    "    \n",
    "    return prompt[:docstring_end] + plan_text + prompt[docstring_end:]\n",
    "\n",
    "# Apply the extraction and insertion to the dataset\n",
    "def process_item(item):\n",
    "    plan = extract_plan(item[COL_TO_CLEAN])\n",
    "    new_prompt = insert_plan_into_docstring(item['prompt'], plan)\n",
    "    return {COL_CLEANED_NAME: new_prompt}\n",
    "\n",
    "dataset = dataset.map(process_item)\n",
    "\n",
    "# Print a sample to verify\n",
    "print(dataset[56][COL_CLEANED_NAME])"
   ]
  },
  {
   "cell_type": "code",
   "execution_count": 17,
   "metadata": {},
   "outputs": [
    {
     "data": {
      "text/plain": [
       "['task_id',\n",
       " 'prompt',\n",
       " 'canonical_solution',\n",
       " 'test',\n",
       " 'entry_point',\n",
       " 'sonnet-3.5_gold_plans',\n",
       " 'cleaned_sonnet-3.5_gold_plans',\n",
       " 'generated_phi3_baseline',\n",
       " 'generated_phi3_plan_generation',\n",
       " 'phi3-planner-plans',\n",
       " 'cleaned-phi3-planner-plans',\n",
       " 'self_planning_Phi-3-mini-4k-instruct',\n",
       " 'cleaned-self_planning_Phi-3-mini-4k-instruct']"
      ]
     },
     "execution_count": 17,
     "metadata": {},
     "output_type": "execute_result"
    }
   ],
   "source": [
    "dataset.column_names"
   ]
  },
  {
   "cell_type": "code",
   "execution_count": 18,
   "metadata": {},
   "outputs": [
    {
     "name": "stderr",
     "output_type": "stream",
     "text": [
      "Creating parquet from Arrow format: 100%|██████████| 1/1 [00:00<00:00, 68.64ba/s]\n",
      "Uploading the dataset shards: 100%|██████████| 1/1 [00:00<00:00,  5.70it/s]\n"
     ]
    },
    {
     "data": {
      "text/plain": [
       "CommitInfo(commit_url='https://huggingface.co/datasets/verifiers-for-code/humaneval_plan_generation/commit/8848b9fff5048448edbe159674e4f521db30b1da', commit_message='Upload dataset', commit_description='', oid='8848b9fff5048448edbe159674e4f521db30b1da', pr_url=None, pr_revision=None, pr_num=None)"
      ]
     },
     "execution_count": 18,
     "metadata": {},
     "output_type": "execute_result"
    }
   ],
   "source": [
    "dataset.push_to_hub(DATASET_NAME, split=\"test\")"
   ]
  },
  {
   "cell_type": "code",
   "execution_count": null,
   "metadata": {},
   "outputs": [],
   "source": []
  }
 ],
 "metadata": {
  "kernelspec": {
   "display_name": "inference",
   "language": "python",
   "name": "python3"
  },
  "language_info": {
   "codemirror_mode": {
    "name": "ipython",
    "version": 3
   },
   "file_extension": ".py",
   "mimetype": "text/x-python",
   "name": "python",
   "nbconvert_exporter": "python",
   "pygments_lexer": "ipython3",
   "version": "3.9.-1"
  }
 },
 "nbformat": 4,
 "nbformat_minor": 2
}
